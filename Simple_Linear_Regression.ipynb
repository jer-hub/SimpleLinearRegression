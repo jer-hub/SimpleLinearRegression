{
  "nbformat": 4,
  "nbformat_minor": 0,
  "metadata": {
    "colab": {
      "name": "Simple Linear Regression",
      "provenance": [],
      "collapsed_sections": []
    },
    "kernelspec": {
      "name": "python3",
      "display_name": "Python 3"
    }
  },
  "cells": [
    {
      "cell_type": "code",
      "metadata": {
        "id": "JJCFANhYnO2k"
      },
      "source": [
        "import pandas as pd\r\n",
        "import matplotlib.pyplot as plt\r\n",
        "from sklearn import linear_model"
      ],
      "execution_count": null,
      "outputs": []
    },
    {
      "cell_type": "code",
      "metadata": {
        "id": "wrx5c57Inln1"
      },
      "source": [
        "data = {'LengthOfStudyTime':[1,2,6,8,11,14,10,9], 'Grades':[70, 80, 85, 85, 92, 88, 90, 89]}"
      ],
      "execution_count": null,
      "outputs": []
    },
    {
      "cell_type": "code",
      "metadata": {
        "id": "5dd8u3bSoRgG"
      },
      "source": [
        "data = pd.DataFrame(data)"
      ],
      "execution_count": null,
      "outputs": []
    },
    {
      "cell_type": "code",
      "metadata": {
        "colab": {
          "base_uri": "https://localhost:8080/"
        },
        "id": "PS-ARL_D66hS",
        "outputId": "c73a0c4c-205e-488d-8077-d11613aa0134"
      },
      "source": [
        "data.shape"
      ],
      "execution_count": null,
      "outputs": [
        {
          "output_type": "execute_result",
          "data": {
            "text/plain": [
              "(8, 2)"
            ]
          },
          "metadata": {
            "tags": []
          },
          "execution_count": 4
        }
      ]
    },
    {
      "cell_type": "code",
      "metadata": {
        "colab": {
          "base_uri": "https://localhost:8080/",
          "height": 312
        },
        "id": "jhALYyQVrIu0",
        "outputId": "8b7d5a3e-e5dd-4d53-e2bb-2a6b486a7c54"
      },
      "source": [
        "data.plot(kind='scatter', x='LengthOfStudyTime', y='Grades', title='The relationship between the length of time a student studies within the week and their grades')"
      ],
      "execution_count": null,
      "outputs": [
        {
          "output_type": "execute_result",
          "data": {
            "text/plain": [
              "<matplotlib.axes._subplots.AxesSubplot at 0x7f4d6405d240>"
            ]
          },
          "metadata": {
            "tags": []
          },
          "execution_count": 5
        },
        {
          "output_type": "display_data",
          "data": {
            "image/png": "[encoded data removed]",
            "text/plain": [
              "<Figure size 432x288 with 1 Axes>"
            ]
          },
          "metadata": {
            "tags": [],
            "needs_background": "light"
          }
        }
      ]
    },
    {
      "cell_type": "code",
      "metadata": {
        "colab": {
          "base_uri": "https://localhost:8080/",
          "height": 281
        },
        "id": "itZXxnc78vqB",
        "outputId": "e3784c7e-99d3-48ed-c801-1e37462515d9"
      },
      "source": [
        "data.plot(kind='box')"
      ],
      "execution_count": null,
      "outputs": [
        {
          "output_type": "execute_result",
          "data": {
            "text/plain": [
              "<matplotlib.axes._subplots.AxesSubplot at 0x7f4d63f38da0>"
            ]
          },
          "metadata": {
            "tags": []
          },
          "execution_count": 6
        },
        {
          "output_type": "display_data",
          "data": {
            "image/png": "[encoded data removed]",
            "text/plain": [
              "<Figure size 432x288 with 1 Axes>"
            ]
          },
          "metadata": {
            "tags": [],
            "needs_background": "light"
          }
        }
      ]
    },
    {
      "cell_type": "code",
      "metadata": {
        "colab": {
          "base_uri": "https://localhost:8080/",
          "height": 107
        },
        "id": "_YQJRTrxwJsU",
        "outputId": "100d38f8-fbec-4b8c-8c85-1b7a9df0bf22"
      },
      "source": [
        "data.corr()"
      ],
      "execution_count": null,
      "outputs": [
        {
          "output_type": "execute_result",
          "data": {
            "text/html": [
              "<div>\n",
              "<style scoped>\n",
              "    .dataframe tbody tr th:only-of-type {\n",
              "        vertical-align: middle;\n",
              "    }\n",
              "\n",
              "    .dataframe tbody tr th {\n",
              "        vertical-align: top;\n",
              "    }\n",
              "\n",
              "    .dataframe thead th {\n",
              "        text-align: right;\n",
              "    }\n",
              "</style>\n",
              "<table border=\"1\" class=\"dataframe\">\n",
              "  <thead>\n",
              "    <tr style=\"text-align: right;\">\n",
              "      <th></th>\n",
              "      <th>LengthOfStudyTime</th>\n",
              "      <th>Grades</th>\n",
              "    </tr>\n",
              "  </thead>\n",
              "  <tbody>\n",
              "    <tr>\n",
              "      <th>LengthOfStudyTime</th>\n",
              "      <td>1.000000</td>\n",
              "      <td>0.855486</td>\n",
              "    </tr>\n",
              "    <tr>\n",
              "      <th>Grades</th>\n",
              "      <td>0.855486</td>\n",
              "      <td>1.000000</td>\n",
              "    </tr>\n",
              "  </tbody>\n",
              "</table>\n",
              "</div>"
            ],
            "text/plain": [
              "                   LengthOfStudyTime    Grades\n",
              "LengthOfStudyTime           1.000000  0.855486\n",
              "Grades                      0.855486  1.000000"
            ]
          },
          "metadata": {
            "tags": []
          },
          "execution_count": 7
        }
      ]
    },
    {
      "cell_type": "code",
      "metadata": {
        "id": "cTtUeOzo3Aq6"
      },
      "source": [
        "lengthOfStudyTime = pd.DataFrame(data['LengthOfStudyTime'])\r\n",
        "grades = pd.DataFrame(data['Grades'])\r\n"
      ],
      "execution_count": null,
      "outputs": []
    },
    {
      "cell_type": "code",
      "metadata": {
        "colab": {
          "base_uri": "https://localhost:8080/",
          "height": 286
        },
        "id": "YO5SfPEQ3Ljm",
        "outputId": "310ed7ba-bad0-4435-ba46-f4572fed95ec"
      },
      "source": [
        "lengthOfStudyTime"
      ],
      "execution_count": null,
      "outputs": [
        {
          "output_type": "execute_result",
          "data": {
            "text/html": [
              "<div>\n",
              "<style scoped>\n",
              "    .dataframe tbody tr th:only-of-type {\n",
              "        vertical-align: middle;\n",
              "    }\n",
              "\n",
              "    .dataframe tbody tr th {\n",
              "        vertical-align: top;\n",
              "    }\n",
              "\n",
              "    .dataframe thead th {\n",
              "        text-align: right;\n",
              "    }\n",
              "</style>\n",
              "<table border=\"1\" class=\"dataframe\">\n",
              "  <thead>\n",
              "    <tr style=\"text-align: right;\">\n",
              "      <th></th>\n",
              "      <th>LengthOfStudyTime</th>\n",
              "    </tr>\n",
              "  </thead>\n",
              "  <tbody>\n",
              "    <tr>\n",
              "      <th>0</th>\n",
              "      <td>1</td>\n",
              "    </tr>\n",
              "    <tr>\n",
              "      <th>1</th>\n",
              "      <td>2</td>\n",
              "    </tr>\n",
              "    <tr>\n",
              "      <th>2</th>\n",
              "      <td>6</td>\n",
              "    </tr>\n",
              "    <tr>\n",
              "      <th>3</th>\n",
              "      <td>8</td>\n",
              "    </tr>\n",
              "    <tr>\n",
              "      <th>4</th>\n",
              "      <td>11</td>\n",
              "    </tr>\n",
              "    <tr>\n",
              "      <th>5</th>\n",
              "      <td>14</td>\n",
              "    </tr>\n",
              "    <tr>\n",
              "      <th>6</th>\n",
              "      <td>10</td>\n",
              "    </tr>\n",
              "    <tr>\n",
              "      <th>7</th>\n",
              "      <td>9</td>\n",
              "    </tr>\n",
              "  </tbody>\n",
              "</table>\n",
              "</div>"
            ],
            "text/plain": [
              "   LengthOfStudyTime\n",
              "0                  1\n",
              "1                  2\n",
              "2                  6\n",
              "3                  8\n",
              "4                 11\n",
              "5                 14\n",
              "6                 10\n",
              "7                  9"
            ]
          },
          "metadata": {
            "tags": []
          },
          "execution_count": 9
        }
      ]
    },
    {
      "cell_type": "code",
      "metadata": {
        "id": "A5nW99qH3Sdk"
      },
      "source": [
        "lm = linear_model.LinearRegression()\r\n",
        "model = lm.fit(lengthOfStudyTime, grades)"
      ],
      "execution_count": null,
      "outputs": []
    },
    {
      "cell_type": "code",
      "metadata": {
        "colab": {
          "base_uri": "https://localhost:8080/"
        },
        "id": "Roq4KNWK39vr",
        "outputId": "18f2dc68-6659-4d39-e99c-0ed125c58def"
      },
      "source": [
        "model.coef_"
      ],
      "execution_count": null,
      "outputs": [
        {
          "output_type": "execute_result",
          "data": {
            "text/plain": [
              "array([[1.36083409]])"
            ]
          },
          "metadata": {
            "tags": []
          },
          "execution_count": 11
        }
      ]
    },
    {
      "cell_type": "code",
      "metadata": {
        "colab": {
          "base_uri": "https://localhost:8080/"
        },
        "id": "EcjN8_A5555x",
        "outputId": "da42859a-c35d-4c1e-b2bf-a6058dc3ca8b"
      },
      "source": [
        "model.intercept_"
      ],
      "execution_count": null,
      "outputs": [
        {
          "output_type": "execute_result",
          "data": {
            "text/plain": [
              "array([74.49864007])"
            ]
          },
          "metadata": {
            "tags": []
          },
          "execution_count": 12
        }
      ]
    },
    {
      "cell_type": "code",
      "metadata": {
        "colab": {
          "base_uri": "https://localhost:8080/"
        },
        "id": "pLdNm_0L4Sq6",
        "outputId": "d35da84e-bc6b-4e41-a9f1-9662498b7d61"
      },
      "source": [
        "model.score(lengthOfStudyTime, grades)"
      ],
      "execution_count": null,
      "outputs": [
        {
          "output_type": "execute_result",
          "data": {
            "text/plain": [
              "0.7318566704986529"
            ]
          },
          "metadata": {
            "tags": []
          },
          "execution_count": 13
        }
      ]
    },
    {
      "cell_type": "code",
      "metadata": {
        "colab": {
          "base_uri": "https://localhost:8080/"
        },
        "id": "XK9eQGps4ZaZ",
        "outputId": "c8a2be44-92b6-4911-a8f7-d281172fa235"
      },
      "source": [
        "gradeNew = 91\r\n",
        "timePredict = model.predict([[gradeNew]])\r\n",
        "timePredict"
      ],
      "execution_count": null,
      "outputs": [
        {
          "output_type": "execute_result",
          "data": {
            "text/plain": [
              "array([[198.33454216]])"
            ]
          },
          "metadata": {
            "tags": []
          },
          "execution_count": 14
        }
      ]
    },
    {
      "cell_type": "code",
      "metadata": {
        "colab": {
          "base_uri": "https://localhost:8080/",
          "height": 163
        },
        "id": "yQTRgO5klW_g",
        "outputId": "ca1a858a-4616-457a-f703-1461d31dc9a3"
      },
      "source": [
        "x = ([81,82,84])\r\n",
        "x = pd.DataFrame(x)\r\n",
        "y = model.predict(x)\r\n",
        "y= pd.DataFrame(y)\r\n",
        "df = pd.concat([x,y], axis = 1, keys = ['Grades', 'TimePredicted'])\r\n",
        "df"
      ],
      "execution_count": null,
      "outputs": [
        {
          "output_type": "execute_result",
          "data": {
            "text/html": [
              "<div>\n",
              "<style scoped>\n",
              "    .dataframe tbody tr th:only-of-type {\n",
              "        vertical-align: middle;\n",
              "    }\n",
              "\n",
              "    .dataframe tbody tr th {\n",
              "        vertical-align: top;\n",
              "    }\n",
              "\n",
              "    .dataframe thead tr th {\n",
              "        text-align: left;\n",
              "    }\n",
              "</style>\n",
              "<table border=\"1\" class=\"dataframe\">\n",
              "  <thead>\n",
              "    <tr>\n",
              "      <th></th>\n",
              "      <th>Grades</th>\n",
              "      <th>TimePredicted</th>\n",
              "    </tr>\n",
              "    <tr>\n",
              "      <th></th>\n",
              "      <th>0</th>\n",
              "      <th>0</th>\n",
              "    </tr>\n",
              "  </thead>\n",
              "  <tbody>\n",
              "    <tr>\n",
              "      <th>0</th>\n",
              "      <td>81</td>\n",
              "      <td>184.726201</td>\n",
              "    </tr>\n",
              "    <tr>\n",
              "      <th>1</th>\n",
              "      <td>82</td>\n",
              "      <td>186.087035</td>\n",
              "    </tr>\n",
              "    <tr>\n",
              "      <th>2</th>\n",
              "      <td>84</td>\n",
              "      <td>188.808704</td>\n",
              "    </tr>\n",
              "  </tbody>\n",
              "</table>\n",
              "</div>"
            ],
            "text/plain": [
              "  Grades TimePredicted\n",
              "       0             0\n",
              "0     81    184.726201\n",
              "1     82    186.087035\n",
              "2     84    188.808704"
            ]
          },
          "metadata": {
            "tags": []
          },
          "execution_count": 20
        }
      ]
    },
    {
      "cell_type": "code",
      "metadata": {
        "colab": {
          "base_uri": "https://localhost:8080/"
        },
        "id": "fld2opMQm_TK",
        "outputId": "d5562908-1e0c-4363-b4e8-c9973acf772b"
      },
      "source": [
        "lm = linear_model.LinearRegression()\r\n",
        "model = lm.fit(lengthOfStudyTime, grades)\r\n",
        "\r\n",
        "timeNew = 13\r\n",
        "gradePredict = model.predict([[timeNew]])\r\n",
        "gradePredict"
      ],
      "execution_count": null,
      "outputs": [
        {
          "output_type": "execute_result",
          "data": {
            "text/plain": [
              "array([[92.18948323]])"
            ]
          },
          "metadata": {
            "tags": []
          },
          "execution_count": 22
        }
      ]
    },
    {
      "cell_type": "code",
      "metadata": {
        "colab": {
          "base_uri": "https://localhost:8080/",
          "height": 163
        },
        "id": "M0gw_MbQneQb",
        "outputId": "5fe21383-a100-498d-ea7f-75c5552f412b"
      },
      "source": [
        "x = ([3,4,5])\r\n",
        "x = pd.DataFrame(x)\r\n",
        "y = model.predict(x)\r\n",
        "y= pd.DataFrame(y)\r\n",
        "df = pd.concat([x,y], axis = 1, keys = ['LengthOfStudyTime', 'GradesPredicted'])\r\n",
        "df"
      ],
      "execution_count": null,
      "outputs": [
        {
          "output_type": "execute_result",
          "data": {
            "text/html": [
              "<div>\n",
              "<style scoped>\n",
              "    .dataframe tbody tr th:only-of-type {\n",
              "        vertical-align: middle;\n",
              "    }\n",
              "\n",
              "    .dataframe tbody tr th {\n",
              "        vertical-align: top;\n",
              "    }\n",
              "\n",
              "    .dataframe thead tr th {\n",
              "        text-align: left;\n",
              "    }\n",
              "</style>\n",
              "<table border=\"1\" class=\"dataframe\">\n",
              "  <thead>\n",
              "    <tr>\n",
              "      <th></th>\n",
              "      <th>LengthOfStudyTime</th>\n",
              "      <th>GradesPredicted</th>\n",
              "    </tr>\n",
              "    <tr>\n",
              "      <th></th>\n",
              "      <th>0</th>\n",
              "      <th>0</th>\n",
              "    </tr>\n",
              "  </thead>\n",
              "  <tbody>\n",
              "    <tr>\n",
              "      <th>0</th>\n",
              "      <td>3</td>\n",
              "      <td>78.581142</td>\n",
              "    </tr>\n",
              "    <tr>\n",
              "      <th>1</th>\n",
              "      <td>4</td>\n",
              "      <td>79.941976</td>\n",
              "    </tr>\n",
              "    <tr>\n",
              "      <th>2</th>\n",
              "      <td>5</td>\n",
              "      <td>81.302811</td>\n",
              "    </tr>\n",
              "  </tbody>\n",
              "</table>\n",
              "</div>"
            ],
            "text/plain": [
              "  LengthOfStudyTime GradesPredicted\n",
              "                  0               0\n",
              "0                 3       78.581142\n",
              "1                 4       79.941976\n",
              "2                 5       81.302811"
            ]
          },
          "metadata": {
            "tags": []
          },
          "execution_count": 17
        }
      ]
    },
    {
      "cell_type": "code",
      "metadata": {
        "colab": {
          "base_uri": "https://localhost:8080/",
          "height": 278
        },
        "id": "A4Ggqi3ZoI9I",
        "outputId": "eb4a373a-767e-434a-9c1e-3f75fd60921f"
      },
      "source": [
        "data.plot(kind = 'scatter', x = 'LengthOfStudyTime', y = 'Grades')\r\n",
        "plt.plot(lengthOfStudyTime, model.predict(lengthOfStudyTime), color = 'red', linewidth=2)\r\n",
        "plt.scatter(timeNew, gradePredict, color = 'black')\r\n",
        "\r\n",
        "x = ([81,82,84])\r\n",
        "x = pd.DataFrame(x)\r\n",
        "y = model.predict(x)\r\n",
        "y= pd.DataFrame(y)\r\n",
        "df = pd.concat([x,y], axis = 1, keys = ['Grades', 'TimePredicted'])\r\n",
        "df\r\n",
        "\r\n",
        "X=x.values\r\n",
        "Y=y.values\r\n",
        "plt.plot(X,Y, color = 'blue', linewidth = 5)\r\n",
        "plt.show()"
      ],
      "execution_count": null,
      "outputs": [
        {
          "output_type": "display_data",
          "data": {
            "image/png": "[encoded data removed]",
            "text/plain": [
              "<Figure size 432x288 with 1 Axes>"
            ]
          },
          "metadata": {
            "tags": [],
            "needs_background": "light"
          }
        }
      ]
    },
    {
      "cell_type": "code",
      "metadata": {
        "colab": {
          "base_uri": "https://localhost:8080/",
          "height": 278
        },
        "id": "OkLVDQUU4h23",
        "outputId": "feeff98e-0bb2-46e8-f98a-7195124702f6"
      },
      "source": [
        "data.plot(kind = 'scatter', x = 'LengthOfStudyTime', y = 'Grades')\r\n",
        "plt.plot(grades, model.predict(grades), color = 'red', linewidth=2)\r\n",
        "plt.scatter(gradeNew, timePredict, color = 'black')\r\n",
        "\r\n",
        "x = ([3,4,5])\r\n",
        "x = pd.DataFrame(x)\r\n",
        "y = model.predict(x)\r\n",
        "y= pd.DataFrame(y)\r\n",
        "df = pd.concat([x,y], axis = 1, keys = ['LengthOfStudyTime', 'GradesPredicted'])\r\n",
        "df\r\n",
        "\r\n",
        "X=x.values\r\n",
        "Y=y.values\r\n",
        "plt.plot(X,Y, color = 'blue', linewidth = 5)\r\n",
        "plt.show()"
      ],
      "execution_count": null,
      "outputs": [
        {
          "output_type": "display_data",
          "data": {
            "image/png": "[encoded data removed]",
            "text/plain": [
              "<Figure size 432x288 with 1 Axes>"
            ]
          },
          "metadata": {
            "tags": [],
            "needs_background": "light"
          }
        }
      ]
    },
    {
      "cell_type": "code",
      "metadata": {
        "id": "8wUO8Gsj4KDf"
      },
      "source": [
        ""
      ],
      "execution_count": null,
      "outputs": []
    }
  ]
}